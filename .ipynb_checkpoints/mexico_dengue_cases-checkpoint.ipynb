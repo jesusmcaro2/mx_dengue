{
 "cells": [
  {
   "cell_type": "code",
   "execution_count": null,
   "metadata": {},
   "outputs": [],
   "source": [
    "import pandas as pd\n",
    "import geopandas as gpd\n",
    "from plotnine import *\n",
    "import numpy as np\n",
    "import plotly.express as px"
   ]
  },
  {
   "cell_type": "markdown",
   "metadata": {},
   "source": [
    "### Analysis of Dengue cases in Mexico\n",
    "\n"
   ]
  },
  {
   "cell_type": "code",
   "execution_count": null,
   "metadata": {},
   "outputs": [],
   "source": [
    "mx_dengue_df = pd.read_pickle(\"../data/mexico_dengue.pkl\")\n",
    "mx_municipalities_df = pd.read_csv(\"../tablas_de_catologo/Municipalities.csv\")\n",
    "mx_states_df = pd.read_csv(\"../tablas_de_catologo/States.csv\")\n",
    "mx_admin_bound_sf = gpd.read_file(\"../mex_admbnda_govmex_20200618_shp/mex_admbnda_adm1_govmex_20200618.dbf\")\n",
    "mx_states_df = mx_states_df.assign(state_admin_code = lambda x: \"MX\" + x[\"ENTITY\"].astype(str).str.zfill(2))"
   ]
  },
  {
   "cell_type": "code",
   "execution_count": null,
   "metadata": {},
   "outputs": [],
   "source": [
    "mx_admin_bound_sf.info()"
   ]
  },
  {
   "cell_type": "code",
   "execution_count": null,
   "metadata": {},
   "outputs": [],
   "source": [
    "ggplot(mx_admin_bound_sf) +\\\n",
    "            geom_map(aes(geom = \"geometry\"), fill = \"none\") +\\\n",
    "                theme(dpi = 250, \n",
    "                      axis_text= element_blank(), \n",
    "                      axis_ticks = element_blank(),\n",
    "                      )"
   ]
  },
  {
   "cell_type": "code",
   "execution_count": null,
   "metadata": {},
   "outputs": [],
   "source": [
    "mx_municipalities_states_df = mx_municipalities_df.\\\n",
    "            merge(mx_states_df, how = \"left\", left_on = \"STATE\", right_on = \"ENTITY\").drop(columns = \"ENTITY\")\n",
    "mx_municipalities_states_df"
   ]
  },
  {
   "cell_type": "code",
   "execution_count": null,
   "metadata": {},
   "outputs": [],
   "source": [
    "mx_dengue_df.info()"
   ]
  },
  {
   "cell_type": "code",
   "execution_count": null,
   "metadata": {},
   "outputs": [],
   "source": [
    "logic_dict = {1:1,\n",
    "               2:0}\n",
    "sex_dict = {1:\"FEMALE\",\n",
    "           2:\"MALE\",\n",
    "           99:\"NOT_SPECIFIED\"}\n",
    "\n",
    "patient_dict = {1:\"AMBULATORY\",\n",
    "                2:\"HOSPITALIZED\",\n",
    "                3:\"UNSPECIFIED\"}\n",
    "\n",
    "dictamen_dict = {1:\"CONFIRMED_DENGUE\",\n",
    "                 2: \"CONFIRMED_CHIKUNGUNYA\",\n",
    "                 3: \"NEGATIVE\",\n",
    "                 4: \"IN_ANALYSIS\",\n",
    "                 5: \"NOT_APPLICABLE\"}\n",
    "\n",
    "pcr_result_dict = {1: \"DENV1\",\n",
    "                   2: \"DENV2\",\n",
    "                   3: \"DENV3\",\n",
    "                   4: \"DENV4\",\n",
    "                   5: \"NO_ISOLATED_SEROTYPE\"}\n",
    "\n",
    "stat_case_dict = {1:\"PROBABLE\",\n",
    "                  2: \"CONFIRMED\",\n",
    "                  3: \"DISCARDED\"}"
   ]
  },
  {
   "cell_type": "code",
   "execution_count": null,
   "metadata": {},
   "outputs": [],
   "source": [
    "mx_dengue_df.DICTAMEN.value_counts()"
   ]
  },
  {
   "cell_type": "code",
   "execution_count": null,
   "metadata": {
    "tags": []
   },
   "outputs": [],
   "source": [
    "mx_dengue_cleaned_df = mx_dengue_df.assign(SEXO = lambda x: x[\"SEXO\"].map(sex_dict),\n",
    "                    HABLA_LENGUA_INDIG = lambda x: x[\"HABLA_LENGUA_INDIG\"].map(logic_dict),\n",
    "                    INDIGENA = lambda x: x[\"INDIGENA\"].map(logic_dict),\n",
    "                    TIPO_PACIENTE = lambda x: x[\"TIPO_PACIENTE\"].map(patient_dict),\n",
    "                    HEMORRAGICOS = lambda x: x[\"HEMORRAGICOS\"].map(logic_dict),\n",
    "                    DIABETES = lambda x: x[\"DIABETES\"].map(logic_dict),\n",
    "                    HIPERTENSION = lambda x: x[\"HIPERTENSION\"].map(logic_dict),\n",
    "                   ENFERMEDAD_ULC_PEPTICA = lambda x: x[\"ENFERMEDAD_ULC_PEPTICA\"].map(logic_dict),\n",
    "                   ENFERMEDAD_RENAL = lambda x: x[\"ENFERMEDAD_RENAL\"].map(logic_dict), \n",
    "                   INMUNOSUPR = lambda x: x[\"INMUNOSUPR\"].map(logic_dict),\n",
    "                    CIRROSIS_HEPATICA = lambda x: x[\"CIRROSIS_HEPATICA\"].map(logic_dict),\n",
    "                    EMBARAZO = lambda x: x[\"EMBARAZO\"].map(logic_dict),\n",
    "                    DEFUNCION = lambda x: x[\"DEFUNCION\"].map(logic_dict),\n",
    "                    DICTAMEN = lambda x: x[\"DICTAMEN\"].map(dictamen_dict),\n",
    "                   TOMA_MUESTRA = lambda x: x[\"TOMA_MUESTRA\"].map(logic_dict),\n",
    "                   RESULTADO_PCR = lambda x: x[\"RESULTADO_PCR\"].map(pcr_result_dict),\n",
    "                   ESTATUS_CASO = lambda x: x[\"ESTATUS_CASO\"].map(stat_case_dict))\n"
   ]
  },
  {
   "cell_type": "code",
   "execution_count": null,
   "metadata": {},
   "outputs": [],
   "source": [
    "mx_dengue_cleaned_df = mx_dengue_cleaned_df.merge(mx_municipalities_states_df, \n",
    "                               how = \"left\", \n",
    "                               left_on = [\"ENTIDAD_UM_NOTIF\", \"MUNICIPIO_UM_NOTIF\"], \n",
    "                               right_on = [\"STATE\",\"MUNICIPALITY_INDEX\"]).\\\n",
    "                    assign(MUNICIPIO_UM_NOTIF = lambda x: x[\"MUNICIPALITY\"], \n",
    "                           ENTIDAD_UM_NOTIF = lambda x: x[\"FEDERAL_ENTITY\"],\n",
    "                           ADMIN_CODIGO_NOTIF = lambda x: x[\"state_admin_code\"]).\\\n",
    "                    drop(columns = [\"MUNICIPALITY_INDEX\",\n",
    "                                    \"MUNICIPALITY\",\n",
    "                                    \"STATE\",\n",
    "                                    \"FEDERAL_ENTITY\",\n",
    "                                    \"ABBREVIATION\",\n",
    "                                    \"state_admin_code\"])"
   ]
  },
  {
   "cell_type": "code",
   "execution_count": null,
   "metadata": {},
   "outputs": [],
   "source": [
    "mx_dengue_cleaned_df = mx_dengue_cleaned_df.merge(mx_municipalities_states_df, \n",
    "                               how = \"left\", \n",
    "                               left_on = [\"ENTIDAD_ASIG\", \"MUNICIPIO_ASIG\"], \n",
    "                               right_on = [\"STATE\",\"MUNICIPALITY_INDEX\"]).\\\n",
    "                    assign(MUNICIPIO_ASIG = lambda x: x[\"MUNICIPALITY\"], \n",
    "                            ENTIDAD_ASIG = lambda x: x[\"FEDERAL_ENTITY\"],\n",
    "                           ADMIN_CODIGO_ASIG = lambda x: x[\"state_admin_code\"]).\\\n",
    "                    drop(columns = [\"MUNICIPALITY_INDEX\",\n",
    "                                    \"MUNICIPALITY\",\n",
    "                                    \"STATE\",\n",
    "                                    \"FEDERAL_ENTITY\",\n",
    "                                    \"ABBREVIATION\",\n",
    "                                    \"state_admin_code\"])"
   ]
  },
  {
   "cell_type": "code",
   "execution_count": null,
   "metadata": {},
   "outputs": [],
   "source": [
    "mx_dengue_cleaned_df = mx_dengue_cleaned_df.assign(FECHA_SIGN_SINTOMAS = lambda x: pd.to_datetime(x[\"FECHA_SIGN_SINTOMAS\"])).\\\n",
    "                     assign(MES_SIGN_SINTOMAS = lambda x:\\\n",
    "                                pd.to_datetime(\"01-\" +\\\n",
    "                                                x[\"FECHA_SIGN_SINTOMAS\"].dt.month.astype(str) +\\\n",
    "                                                   \"-\" +  x[\"FECHA_SIGN_SINTOMAS\"].dt.year.astype(str), dayfirst = True))"
   ]
  },
  {
   "cell_type": "code",
   "execution_count": null,
   "metadata": {},
   "outputs": [],
   "source": [
    "mx_dengue_monthly_count = mx_dengue_cleaned_df.groupby([\"MES_SIGN_SINTOMAS\", \"DEFUNCION\"], as_index = False).agg(NUM_CASOS = pd.NamedAgg(\"MES_SIGN_SINTOMAS\", \"count\")).assign(DEFUNCION = lambda x: x[\"DEFUNCION\"].astype(str))"
   ]
  },
  {
   "cell_type": "code",
   "execution_count": null,
   "metadata": {},
   "outputs": [],
   "source": [
    "ggplot(mx_dengue_monthly_count, aes(x = \"MES_SIGN_SINTOMAS\", y = \"NUM_CASOS\", fill = \"DEFUNCION\")) +\\\n",
    "                    geom_col() +\\\n",
    "                    scale_y_log10() +\\\n",
    "                    theme_538() +\\\n",
    "                    theme(axis_text_x= element_text(angle = 30)) +\\\n",
    "                    xlab(\"Month Symptoms Reported\") +\\\n",
    "                    ylab(\"Number of Cases With Symptoms\")\n",
    "                    "
   ]
  },
  {
   "cell_type": "code",
   "execution_count": null,
   "metadata": {},
   "outputs": [],
   "source": [
    "ggplot(mx_dengue_cleaned_df.loc[:,[\"EDAD_ANOS\", \"DEFUNCION\"]].assign(DEFUNCION = lambda x: x[\"DEFUNCION\"].astype(str)), aes(y = \"EDAD_ANOS\", x = \"DEFUNCION\")) + geom_boxplot()"
   ]
  },
  {
   "cell_type": "code",
   "execution_count": null,
   "metadata": {},
   "outputs": [],
   "source": [
    "mx_dengue_cleaned_df.query(\"ESTATUS_CASO != 'DISCARDED'\").groupby([\"SEXO\", \"DEFUNCION\"], as_index = False).agg(count = pd.NamedAgg(\"DEFUNCION\", \"count\"))"
   ]
  },
  {
   "cell_type": "code",
   "execution_count": null,
   "metadata": {},
   "outputs": [],
   "source": [
    "mx_dengue_cleaned_df"
   ]
  },
  {
   "cell_type": "code",
   "execution_count": null,
   "metadata": {},
   "outputs": [],
   "source": []
  },
  {
   "cell_type": "code",
   "execution_count": null,
   "metadata": {},
   "outputs": [],
   "source": [
    "#mx_dengue_state_count_df = mx_admin_bound_sf.merge(mx_dengue_state_count_df, left_on = \"ADM1_PCODE\", right_on = \"ADMIN_CODIGO_NOTIF\", how = \"left\")\n",
    "#mx_dengue_state_count_df.head()"
   ]
  },
  {
   "cell_type": "markdown",
   "metadata": {},
   "source": [
    "ggplot() +\\\n",
    "        geom_map(mx_dengue_state_count_df, aes(geom = \"geometry\",\n",
    "                                               fill = \"num_case\",\n",
    "                                               color = \"num_case\")) +\\\n",
    "        scale_fill_gradient(low = \"#d1d1d1\", high = \"blue\") +\\\n",
    "        scale_color_gradient(low = \"#d1d1d1\", high = \"blue\") +\\\n",
    "                theme(dpi = 250, \n",
    "                      axis_text= element_blank(), \n",
    "                      axis_ticks = element_blank(),\n",
    "                      panel_background= element_blank())"
   ]
  },
  {
   "cell_type": "code",
   "execution_count": null,
   "metadata": {},
   "outputs": [],
   "source": [
    "mx_dengue_cleaned_df"
   ]
  },
  {
   "cell_type": "code",
   "execution_count": null,
   "metadata": {},
   "outputs": [],
   "source": [
    "mx_dengue_state_count_df = mx_dengue_cleaned_df.\\\n",
    "                groupby([\"ADMIN_CODIGO_NOTIF\",\"ENTIDAD_UM_NOTIF\"], as_index= False).\\\n",
    "agg(num_case = pd.NamedAgg(\"ADMIN_CODIGO_NOTIF\", \"count\"))\n",
    "\n",
    "mx_dengue_boundary_count_df = mx_admin_bound_sf.\\\n",
    "            merge(mx_dengue_state_count_df,\n",
    "                  left_on = \"ADM1_PCODE\",\n",
    "                  right_on = \"ADMIN_CODIGO_NOTIF\",\n",
    "                  how = \"left\")\n",
    "\n",
    "\n"
   ]
  },
  {
   "cell_type": "code",
   "execution_count": null,
   "metadata": {},
   "outputs": [],
   "source": [
    "mx_dengue_boundary_count_df"
   ]
  },
  {
   "cell_type": "code",
   "execution_count": null,
   "metadata": {},
   "outputs": [],
   "source": [
    "import plotly.express as px\n",
    "## Daily Counts\n",
    "mx_dengue_cuenta_df = mx_dengue_cleaned_df.groupby([\"MES_SIGN_SINTOMAS\", \"DEFUNCION\"], as_index = False).\\\n",
    "            agg(CUENTA_CASOS = pd.NamedAgg(\"MES_SIGN_SINTOMAS\", \"count\")).\\\n",
    "                assign(DEFUNCION = lambda x: np.where(x[\"DEFUNCION\"] == 1, \"SI\", \"NO\"))\n",
    "\n",
    "dengue_fig = px.bar(mx_dengue_cuenta_df,\\\n",
    "                        x = \"MES_SIGN_SINTOMAS\",\\\n",
    "                        y = \"CUENTA_CASOS\",\\\n",
    "                        color = \"DEFUNCION\",\\\n",
    "                        facet_col = \"DEFUNCION\",\\\n",
    "                        log_y= True)\n",
    "\n",
    "dengue_fig.show()"
   ]
  },
  {
   "cell_type": "code",
   "execution_count": null,
   "metadata": {},
   "outputs": [],
   "source": [
    "import plotly.express as px\n",
    "data_canada = px.data.gapminder().query(\"country == 'Canada'\")\n",
    "fig = px.bar(data_canada, x='year', y='pop')\n",
    "fig"
   ]
  },
  {
   "cell_type": "code",
   "execution_count": null,
   "metadata": {},
   "outputs": [],
   "source": [
    "from jupyter_dash import JupyterDash\n",
    "import dash_core_components as dcc\n",
    "import dash_html_components as html\n",
    "from dash.dependencies import Input, Output\n",
    "import json as json\n",
    "\n",
    "styles = {\n",
    "    'pre': {\n",
    "        'border': 'thin lightgrey solid',\n",
    "        'overflowX': 'scroll'\n",
    "    }\n",
    "}\n",
    "\n",
    "summary_string = \"This is a summary string that I'm going to use to insert a summary and any pertinent instructions into the top of the dashboard I'll put a break here:  \\\n",
    "does it work?\"\n",
    "\n",
    "mx_dengue_cuenta_df = mx_dengue_cleaned_df.groupby([\"ENTIDAD_UM_NOTIF\",\"MES_SIGN_SINTOMAS\", \"DEFUNCION\"], as_index = False).\\\n",
    "            agg(CUENTA_CASOS = pd.NamedAgg(\"MES_SIGN_SINTOMAS\", \"count\")).\\\n",
    "                assign(DEFUNCION = lambda x: np.where(x[\"DEFUNCION\"] == 1, \"SI\", \"NO\"))\n",
    "\n",
    "mx_dengue_cuenta_geo_df = mx_dengue_cleaned_df\n",
    "\n",
    "fig_map = px.choropleth_mapbox(mx_dengue_boundary_count_df,\n",
    "              geojson= mx_dengue_boundary_count_df.geometry,\n",
    "              locations = mx_dengue_boundary_count_df.index,\n",
    "              hover_name = \"ENTIDAD_UM_NOTIF\",\n",
    "              color_continuous_scale = \"agsunset\",\n",
    "              color = \"num_case\",\n",
    "              center={\"lat\": 23.75, \"lon\": -99.1200},\n",
    "              mapbox_style = \"carto-positron\",\n",
    "              zoom = 3,\n",
    "              width = 500)\n",
    "fig_map.update_layout(clickmode = \"event+select\")\n",
    "\n",
    "fig_map.update_geos(fitbounds=\"locations\", visible=False)\n",
    "\n",
    "# Build App\n",
    "app = JupyterDash(__name__)\n",
    "app.layout = html.Div(children = [\n",
    "    dcc.Markdown(summary_string),\n",
    "    \n",
    "    html.H1(\"Dengue Cases In Mexico\",style = {\"textAlign\":\"center\"}),\n",
    "    \n",
    "    html.Div(dcc.Graph(figure = fig_map,\n",
    "                       id = \"mexico-map\")\n",
    "            ),\n",
    "    \n",
    "    dcc.Graph(id='graph'),\n",
    "    \n",
    "    html.Label([\n",
    "        \n",
    "        html.H4(\"Select State\"),\n",
    "        \n",
    "        dcc.Dropdown(\n",
    "            id='entidad_notif', clearable=False,\n",
    "            value='ENTIDAD_DEFAULT', options=[\n",
    "                {'label': c, 'value': c}\n",
    "                for c in mx_dengue_cuenta_df.ENTIDAD_UM_NOTIF.drop_duplicates().to_list()\n",
    "            ])\n",
    "    ]), \n",
    "    html.Div([\n",
    "            dcc.Markdown(\"\"\"\n",
    "                **Click Data**\n",
    "\n",
    "                Click on points in the graph.\n",
    "            \"\"\"),\n",
    "            html.Pre(id='click-data', style=styles['pre']),\n",
    "        ], className='three columns'),\n",
    "])\n",
    "\n",
    "# Define callback to update graph\n",
    "\n",
    "@app.callback(\n",
    "    Output('click-data', 'children'),\n",
    "    Input('mexico-map', 'selectedData'))\n",
    "\n",
    "def display_click_data(selectedData):\n",
    "    if selectedData == None:\n",
    "        return \"All\"\n",
    "    else:\n",
    "        return selectedData[\"points\"][0][\"hovertext\"]\n",
    "\n",
    "\n",
    "@app.callback(\n",
    "    Output('graph', 'figure'),\n",
    "    [Input(\"mexico-map\", \"selectedData\")]\n",
    ")\n",
    "\n",
    "\n",
    "def update_figure(selectedData):\n",
    "    if selectedData != None:\n",
    "        mx_dengue_tmp_df = mx_dengue_cuenta_df[mx_dengue_cuenta_df[\"ENTIDAD_UM_NOTIF\"] == selectedData[\"points\"][0][\"hovertext\"]]\n",
    "    else:\n",
    "        mx_dengue_tmp_df = mx_dengue_cuenta_df.groupby([\"MES_SIGN_SINTOMAS\", \"DEFUNCION\"], as_index = False).\\\n",
    "            agg(CUENTA_CASOS = pd.NamedAgg(\"CUENTA_CASOS\", np.sum))\n",
    "    fig =  px.bar(mx_dengue_tmp_df,\\\n",
    "                        x = \"MES_SIGN_SINTOMAS\",\\\n",
    "                        y = \"CUENTA_CASOS\",\\\n",
    "                        color = \"DEFUNCION\",\\\n",
    "                        facet_col = \"DEFUNCION\",\\\n",
    "                        log_y= True)\n",
    "    return fig\n",
    "# Load Data\n",
    "# Run app and display result inline in the notebook\n",
    "app.run_server(mode=\"external\", port = 8080)"
   ]
  },
  {
   "cell_type": "code",
   "execution_count": null,
   "metadata": {},
   "outputs": [],
   "source": [
    "from jupyter_dash import JupyterDash\n",
    "import dash_core_components as dcc\n",
    "import dash_html_components as html\n",
    "from dash.dependencies import Input, Output\n",
    "import json as json\n",
    "\n",
    "styles = {\n",
    "    'pre': {\n",
    "        'border': 'thin lightgrey solid',\n",
    "        'overflowX': 'scroll'\n",
    "    }\n",
    "}\n",
    "\n",
    "\n",
    "mx_dengue_cuenta_df = mx_dengue_cleaned_df.groupby([\"ENTIDAD_UM_NOTIF\",\"MES_SIGN_SINTOMAS\", \"DEFUNCION\"], as_index = False).\\\n",
    "            agg(CUENTA_CASOS = pd.NamedAgg(\"MES_SIGN_SINTOMAS\", \"count\")).\\\n",
    "                assign(DEFUNCION = lambda x: np.where(x[\"DEFUNCION\"] == 1, \"SI\", \"NO\"))\n",
    "\n",
    "mx_dengue_cuenta_geo_df = mx_dengue_cleaned_df\n",
    "\n",
    "fig_map = px.choropleth_mapbox(mx_dengue_boundary_count_df,\n",
    "              geojson= mx_dengue_boundary_count_df.geometry,\n",
    "              locations = mx_dengue_boundary_count_df.index,\n",
    "              hover_name = \"ENTIDAD_UM_NOTIF\",\n",
    "              color_continuous_scale = \"agsunset\",\n",
    "              color = \"num_case\",\n",
    "              center={\"lat\": 23.75, \"lon\": -99.1200},\n",
    "              mapbox_style = \"carto-positron\",\n",
    "              zoom = 3,\n",
    "              width = 500)\n",
    "fig_map.update_layout(clickmode = \"event+select\")\n",
    "\n",
    "fig_map.update_geos(fitbounds=\"locations\", visible=False)\n",
    "\n",
    "df = px.data.tips()\n",
    "# Build App\n",
    "app = JupyterDash(__name__)\n",
    "app.layout = html.Div(children = [\n",
    "    html.H1(\"Dengue Cases In Mexico\",style = {\"textAlign\":\"center\"}),\n",
    "    \n",
    "    html.Div(dcc.Graph(figure = fig_map,\n",
    "                       id = \"mexico-map\")\n",
    "            ),\n",
    "    \n",
    "    dcc.Graph(id='graph'),\n",
    "    \n",
    "    html.Label([\n",
    "        \n",
    "        html.H4(\"Select State\"),\n",
    "        \n",
    "        dcc.Dropdown(\n",
    "            id='entidad_notif', clearable=False,\n",
    "            value='ENTIDAD_DEFAULT', options=[\n",
    "                {'label': c, 'value': c}\n",
    "                for c in mx_dengue_cuenta_df.ENTIDAD_UM_NOTIF.drop_duplicates().to_list()\n",
    "            ])\n",
    "    ]), \n",
    "    html.Div([\n",
    "            dcc.Markdown(\"\"\"\n",
    "                **Click Data**\n",
    "\n",
    "                Click on points in the graph.\n",
    "            \"\"\"),\n",
    "            html.Pre(id='click-data', style=styles['pre']),\n",
    "        ], className='three columns'),\n",
    "])\n",
    "\n",
    "# Define callback to update graph\n",
    "\n",
    "@app.callback(\n",
    "    Output('click-data', 'children'),\n",
    "    Input('mexico-map', 'clickData'))\n",
    "\n",
    "def display_click_data(clickData):\n",
    "    if clickData == None:\n",
    "        return \"All\"\n",
    "    else:\n",
    "        return clickData[\"points\"][0][\"hovertext\"]\n",
    "\n",
    "\n",
    "@app.callback(\n",
    "    Output('graph', 'figure'),\n",
    "    [Input(\"entidad_notif\", \"value\")]\n",
    ")\n",
    "\n",
    "\n",
    "def update_figure(entidad):\n",
    "    if entidad != \"ENTIDAD_DEFAULT\":\n",
    "        mx_dengue_tmp_df = mx_dengue_cuenta_df[mx_dengue_cuenta_df[\"ENTIDAD_UM_NOTIF\"] == entidad]\n",
    "    else:\n",
    "        mx_dengue_tmp_df = mx_dengue_cuenta_df.groupby([\"MES_SIGN_SINTOMAS\", \"DEFUNCION\"], as_index = False).\\\n",
    "            agg(CUENTA_CASOS = pd.NamedAgg(\"CUENTA_CASOS\", np.sum))\n",
    "    fig =  px.bar(mx_dengue_tmp_df,\\\n",
    "                        x = \"MES_SIGN_SINTOMAS\",\\\n",
    "                        y = \"CUENTA_CASOS\",\\\n",
    "                        color = \"DEFUNCION\",\\\n",
    "                        facet_col = \"DEFUNCION\",\\\n",
    "                        log_y= True)\n",
    "    return fig\n",
    "# Load Data\n",
    "# Run app and display result inline in the notebook\n",
    "app.run_server(mode=\"external\", port = 9030)"
   ]
  },
  {
   "cell_type": "code",
   "execution_count": null,
   "metadata": {},
   "outputs": [],
   "source": []
  },
  {
   "cell_type": "code",
   "execution_count": null,
   "metadata": {},
   "outputs": [],
   "source": []
  }
 ],
 "metadata": {
  "kernelspec": {
   "display_name": "Python 3",
   "language": "python",
   "name": "python3"
  },
  "language_info": {
   "codemirror_mode": {
    "name": "ipython",
    "version": 3
   },
   "file_extension": ".py",
   "mimetype": "text/x-python",
   "name": "python",
   "nbconvert_exporter": "python",
   "pygments_lexer": "ipython3",
   "version": "3.8.3"
  }
 },
 "nbformat": 4,
 "nbformat_minor": 4
}
